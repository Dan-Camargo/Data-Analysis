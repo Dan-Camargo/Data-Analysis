{
 "cells": [
  {
   "cell_type": "markdown",
   "id": "25106800-1b7b-42de-a0b1-dfcc0c2b9158",
   "metadata": {},
   "source": [
    "# ANÁLISE DOS DADOS DE REEMBOLSO DOS SENADORES DE 2018\n",
    "Dados coletados em: \"https://www12.senado.leg.br/dados-abertos/conjuntos?portal=Administrativo&grupo=senadores\""
   ]
  },
  {
   "cell_type": "code",
   "execution_count": 27,
   "id": "8c161a87-80f3-4c8a-9910-4d353671cd4a",
   "metadata": {},
   "outputs": [
    {
     "data": {
      "text/html": [
       "<div>\n",
       "<style scoped>\n",
       "    .dataframe tbody tr th:only-of-type {\n",
       "        vertical-align: middle;\n",
       "    }\n",
       "\n",
       "    .dataframe tbody tr th {\n",
       "        vertical-align: top;\n",
       "    }\n",
       "\n",
       "    .dataframe thead th {\n",
       "        text-align: right;\n",
       "    }\n",
       "</style>\n",
       "<table border=\"1\" class=\"dataframe\">\n",
       "  <thead>\n",
       "    <tr style=\"text-align: right;\">\n",
       "      <th></th>\n",
       "      <th>ID</th>\n",
       "      <th>TIPO_DOCUMENTO</th>\n",
       "      <th>ANO</th>\n",
       "      <th>MÊS</th>\n",
       "      <th>NOME_SENADOR</th>\n",
       "      <th>TIPO_DESPESA</th>\n",
       "      <th>CPF_CNPJ_FORNECEDOR</th>\n",
       "      <th>NOME_FORNECEDOR</th>\n",
       "      <th>DOCUMENTO</th>\n",
       "      <th>DATA</th>\n",
       "      <th>DETALHAMENTO</th>\n",
       "      <th>VALOR_REEMBOLSADO</th>\n",
       "    </tr>\n",
       "  </thead>\n",
       "  <tbody>\n",
       "    <tr>\n",
       "      <th>0</th>\n",
       "      <td>2091301</td>\n",
       "      <td>Passagem / Bilhete / Código Localizador</td>\n",
       "      <td>2018</td>\n",
       "      <td>3</td>\n",
       "      <td>ACIR GURGACZ</td>\n",
       "      <td>Passagens aéreas, aquáticas e terrestres nacio...</td>\n",
       "      <td>63.764.211/0001-10</td>\n",
       "      <td>TRANSCONTINENTAL AGÊNCIA DE VIAGENS LTDA</td>\n",
       "      <td>C7HFSY</td>\n",
       "      <td>2018-03-16</td>\n",
       "      <td>Companhia Aérea: AZUL, Localizador: C7HFSY. Pa...</td>\n",
       "      <td>2773.24</td>\n",
       "    </tr>\n",
       "    <tr>\n",
       "      <th>1</th>\n",
       "      <td>2092285</td>\n",
       "      <td>Passagem / Bilhete / Código Localizador</td>\n",
       "      <td>2018</td>\n",
       "      <td>3</td>\n",
       "      <td>ACIR GURGACZ</td>\n",
       "      <td>Passagens aéreas, aquáticas e terrestres nacio...</td>\n",
       "      <td>63.764.211/0001-10</td>\n",
       "      <td>TRANSCONTINENTAL AGÊNCIA DE VIAGENS LTDA</td>\n",
       "      <td>T6DKGB</td>\n",
       "      <td>2018-03-19</td>\n",
       "      <td>Companhia Aérea: AZUL, Localizador: T6DKGB. Pa...</td>\n",
       "      <td>814.96</td>\n",
       "    </tr>\n",
       "    <tr>\n",
       "      <th>2</th>\n",
       "      <td>2092292</td>\n",
       "      <td>Passagem / Bilhete / Código Localizador</td>\n",
       "      <td>2018</td>\n",
       "      <td>3</td>\n",
       "      <td>ACIR GURGACZ</td>\n",
       "      <td>Passagens aéreas, aquáticas e terrestres nacio...</td>\n",
       "      <td>63.764.211/0001-10</td>\n",
       "      <td>TRANSCONTINENTAL AGÊNCIA DE VIAGENS LTDA</td>\n",
       "      <td>RFDLKD</td>\n",
       "      <td>2018-03-27</td>\n",
       "      <td>Companhia Aérea: AZUL, Localizador: RFDLKD. Pa...</td>\n",
       "      <td>636.90</td>\n",
       "    </tr>\n",
       "  </tbody>\n",
       "</table>\n",
       "</div>"
      ],
      "text/plain": [
       "        ID                           TIPO_DOCUMENTO   ANO  MÊS  NOME_SENADOR  \\\n",
       "0  2091301  Passagem / Bilhete / Código Localizador  2018    3  ACIR GURGACZ   \n",
       "1  2092285  Passagem / Bilhete / Código Localizador  2018    3  ACIR GURGACZ   \n",
       "2  2092292  Passagem / Bilhete / Código Localizador  2018    3  ACIR GURGACZ   \n",
       "\n",
       "                                        TIPO_DESPESA CPF_CNPJ_FORNECEDOR  \\\n",
       "0  Passagens aéreas, aquáticas e terrestres nacio...  63.764.211/0001-10   \n",
       "1  Passagens aéreas, aquáticas e terrestres nacio...  63.764.211/0001-10   \n",
       "2  Passagens aéreas, aquáticas e terrestres nacio...  63.764.211/0001-10   \n",
       "\n",
       "                            NOME_FORNECEDOR DOCUMENTO        DATA  \\\n",
       "0  TRANSCONTINENTAL AGÊNCIA DE VIAGENS LTDA    C7HFSY  2018-03-16   \n",
       "1  TRANSCONTINENTAL AGÊNCIA DE VIAGENS LTDA    T6DKGB  2018-03-19   \n",
       "2  TRANSCONTINENTAL AGÊNCIA DE VIAGENS LTDA    RFDLKD  2018-03-27   \n",
       "\n",
       "                                        DETALHAMENTO  VALOR_REEMBOLSADO  \n",
       "0  Companhia Aérea: AZUL, Localizador: C7HFSY. Pa...            2773.24  \n",
       "1  Companhia Aérea: AZUL, Localizador: T6DKGB. Pa...             814.96  \n",
       "2  Companhia Aérea: AZUL, Localizador: RFDLKD. Pa...             636.90  "
      ]
     },
     "execution_count": 27,
     "metadata": {},
     "output_type": "execute_result"
    }
   ],
   "source": [
    "import pandas as pd\n",
    "import matplotlib.pyplot as plt\n",
    "\n",
    "df = pd.read_csv('despesas_ceaps_2018.csv', sep= ';', decimal=',')\n",
    "\n",
    "#AQUI ADICIONEI O SEPARADOR DE DECIMAIS COMO A VÍRGULA PARA QUE IDENTIFIQUE OS VALORES COMO NÚMEROS\n",
    "\n",
    "df.head(3)"
   ]
  },
  {
   "cell_type": "code",
   "execution_count": 29,
   "id": "d2b3a8c3-a564-4c33-b08a-04dd055cd081",
   "metadata": {},
   "outputs": [
    {
     "name": "stdout",
     "output_type": "stream",
     "text": [
      "<class 'pandas.core.frame.DataFrame'>\n",
      "RangeIndex: 24492 entries, 0 to 24491\n",
      "Data columns (total 12 columns):\n",
      " #   Column               Non-Null Count  Dtype  \n",
      "---  ------               --------------  -----  \n",
      " 0   ID                   24492 non-null  int64  \n",
      " 1   TIPO_DOCUMENTO       24492 non-null  object \n",
      " 2   ANO                  24492 non-null  int64  \n",
      " 3   MÊS                  24492 non-null  int64  \n",
      " 4   NOME_SENADOR         24492 non-null  object \n",
      " 5   TIPO_DESPESA         24492 non-null  object \n",
      " 6   CPF_CNPJ_FORNECEDOR  24492 non-null  object \n",
      " 7   NOME_FORNECEDOR      24492 non-null  object \n",
      " 8   DOCUMENTO            23476 non-null  object \n",
      " 9   DATA                 24492 non-null  object \n",
      " 10  DETALHAMENTO         18882 non-null  object \n",
      " 11  VALOR_REEMBOLSADO    24492 non-null  float64\n",
      "dtypes: float64(1), int64(3), object(8)\n",
      "memory usage: 2.2+ MB\n"
     ]
    }
   ],
   "source": [
    "#Conferir tamanhos e tipos das colunas\n",
    "df.info()"
   ]
  },
  {
   "cell_type": "code",
   "execution_count": 31,
   "id": "2cfc4e04-1639-47c1-b0da-e94379c72578",
   "metadata": {},
   "outputs": [
    {
     "data": {
      "text/html": [
       "<div>\n",
       "<style scoped>\n",
       "    .dataframe tbody tr th:only-of-type {\n",
       "        vertical-align: middle;\n",
       "    }\n",
       "\n",
       "    .dataframe tbody tr th {\n",
       "        vertical-align: top;\n",
       "    }\n",
       "\n",
       "    .dataframe thead th {\n",
       "        text-align: right;\n",
       "    }\n",
       "</style>\n",
       "<table border=\"1\" class=\"dataframe\">\n",
       "  <thead>\n",
       "    <tr style=\"text-align: right;\">\n",
       "      <th></th>\n",
       "      <th>ID</th>\n",
       "      <th>ANO</th>\n",
       "      <th>MÊS</th>\n",
       "      <th>VALOR_REEMBOLSADO</th>\n",
       "    </tr>\n",
       "  </thead>\n",
       "  <tbody>\n",
       "    <tr>\n",
       "      <th>count</th>\n",
       "      <td>2.449200e+04</td>\n",
       "      <td>24492.0</td>\n",
       "      <td>24492.000000</td>\n",
       "      <td>24492.000000</td>\n",
       "    </tr>\n",
       "    <tr>\n",
       "      <th>mean</th>\n",
       "      <td>2.100346e+06</td>\n",
       "      <td>2018.0</td>\n",
       "      <td>6.192226</td>\n",
       "      <td>1045.431003</td>\n",
       "    </tr>\n",
       "    <tr>\n",
       "      <th>std</th>\n",
       "      <td>7.881637e+03</td>\n",
       "      <td>0.0</td>\n",
       "      <td>3.305847</td>\n",
       "      <td>2718.840641</td>\n",
       "    </tr>\n",
       "    <tr>\n",
       "      <th>min</th>\n",
       "      <td>2.085892e+06</td>\n",
       "      <td>2018.0</td>\n",
       "      <td>1.000000</td>\n",
       "      <td>0.010000</td>\n",
       "    </tr>\n",
       "    <tr>\n",
       "      <th>25%</th>\n",
       "      <td>2.093630e+06</td>\n",
       "      <td>2018.0</td>\n",
       "      <td>3.000000</td>\n",
       "      <td>125.000000</td>\n",
       "    </tr>\n",
       "    <tr>\n",
       "      <th>50%</th>\n",
       "      <td>2.100348e+06</td>\n",
       "      <td>2018.0</td>\n",
       "      <td>6.000000</td>\n",
       "      <td>287.200000</td>\n",
       "    </tr>\n",
       "    <tr>\n",
       "      <th>75%</th>\n",
       "      <td>2.107072e+06</td>\n",
       "      <td>2018.0</td>\n",
       "      <td>9.000000</td>\n",
       "      <td>1032.005000</td>\n",
       "    </tr>\n",
       "    <tr>\n",
       "      <th>max</th>\n",
       "      <td>2.118038e+06</td>\n",
       "      <td>2018.0</td>\n",
       "      <td>12.000000</td>\n",
       "      <td>103900.000000</td>\n",
       "    </tr>\n",
       "  </tbody>\n",
       "</table>\n",
       "</div>"
      ],
      "text/plain": [
       "                 ID      ANO           MÊS  VALOR_REEMBOLSADO\n",
       "count  2.449200e+04  24492.0  24492.000000       24492.000000\n",
       "mean   2.100346e+06   2018.0      6.192226        1045.431003\n",
       "std    7.881637e+03      0.0      3.305847        2718.840641\n",
       "min    2.085892e+06   2018.0      1.000000           0.010000\n",
       "25%    2.093630e+06   2018.0      3.000000         125.000000\n",
       "50%    2.100348e+06   2018.0      6.000000         287.200000\n",
       "75%    2.107072e+06   2018.0      9.000000        1032.005000\n",
       "max    2.118038e+06   2018.0     12.000000      103900.000000"
      ]
     },
     "execution_count": 31,
     "metadata": {},
     "output_type": "execute_result"
    }
   ],
   "source": [
    "df.describe()"
   ]
  },
  {
   "cell_type": "code",
   "execution_count": 35,
   "id": "90d1ceea-ed24-4662-b173-a7d6cd2dea39",
   "metadata": {},
   "outputs": [
    {
     "data": {
      "text/plain": [
       "25604696.120000005"
      ]
     },
     "execution_count": 35,
     "metadata": {},
     "output_type": "execute_result"
    }
   ],
   "source": [
    "#VALOR TOTAL DE REEMBOLSOS\n",
    "df['VALOR_REEMBOLSADO'].sum()"
   ]
  },
  {
   "cell_type": "code",
   "execution_count": 45,
   "id": "a512e63f-4001-4e6e-af2c-5f66d92517bd",
   "metadata": {},
   "outputs": [
    {
     "data": {
      "text/plain": [
       "NOME_SENADOR\n",
       "EDUARDO LOPES          864\n",
       "PAULO BAUER            824\n",
       "WELLINGTON FAGUNDES    800\n",
       "JOSÉ SERRA             715\n",
       "GLEISI HOFFMANN        653\n",
       "                      ... \n",
       "ALVARO DIAS             40\n",
       "FERNANDO COLLOR         27\n",
       "JADER BARBALHO          19\n",
       "CRISTOVAM BUARQUE       16\n",
       "ZÉ SANTANA               8\n",
       "Name: count, Length: 91, dtype: int64"
      ]
     },
     "execution_count": 45,
     "metadata": {},
     "output_type": "execute_result"
    }
   ],
   "source": [
    "#VALOR TOTAL DE REEMBOLSOS POR SENADOR\n",
    "df['NOME_SENADOR'].value_counts()"
   ]
  },
  {
   "cell_type": "code",
   "execution_count": 55,
   "id": "b575fbcf-bea7-4693-87a0-c8e3079b6ea6",
   "metadata": {},
   "outputs": [
    {
     "data": {
      "text/plain": [
       "NOME_SENADOR\n",
       "EDUARDO BRAGA         529599.18\n",
       "VANESSA GRAZZIOTIN    515969.63\n",
       "JOÃO CAPIBERIBE       513333.90\n",
       "ÂNGELA PORTELA        485806.44\n",
       "OMAR AZIZ             484143.98\n",
       "                        ...    \n",
       "ALVARO DIAS            44037.88\n",
       "WALTER PINHEIRO        32733.67\n",
       "CRISTOVAM BUARQUE      32400.00\n",
       "ZÉ SANTANA             23300.67\n",
       "IONE GUIMARÃES         11379.91\n",
       "Name: VALOR_REEMBOLSADO, Length: 91, dtype: float64"
      ]
     },
     "execution_count": 55,
     "metadata": {},
     "output_type": "execute_result"
    }
   ],
   "source": [
    "#QUAL FOI O VALOR DE REEMBOLSOS POR SENADOR\n",
    "df.groupby('NOME_SENADOR')['VALOR_REEMBOLSADO'].sum().sort_values(ascending=False)"
   ]
  },
  {
   "cell_type": "code",
   "execution_count": 59,
   "id": "51a312d5-1a51-4c6d-8f56-430d0fdb9e8d",
   "metadata": {
    "scrolled": true
   },
   "outputs": [
    {
     "data": {
      "text/plain": [
       "TIPO_DESPESA\n",
       "Locomoção, hospedagem, alimentação, combustíveis e lubrificantes                                                                                                                                   10147\n",
       "Passagens aéreas, aquáticas e terrestres nacionais                                                                                                                                                  5820\n",
       "Aluguel de imóveis para escritório político, compreendendo despesas concernentes a eles.                                                                                                            5042\n",
       "Aquisição de material de consumo para uso no escritório político, inclusive aquisição ou locação de software, despesas postais, aquisição de publicações, locação de móveis e de equipamentos.      1761\n",
       "Contratação de consultorias, assessorias, pesquisas, trabalhos técnicos e outros serviços de apoio ao exercício do mandato parlamentar                                                               928\n",
       "Divulgação da atividade parlamentar                                                                                                                                                                  750\n",
       "Serviços de Segurança Privada                                                                                                                                                                         44\n",
       "Name: count, dtype: int64"
      ]
     },
     "execution_count": 59,
     "metadata": {},
     "output_type": "execute_result"
    }
   ],
   "source": [
    "#QUANTIDADES DE REEMBOLSOS POR TIPO DE DESPESA\n",
    "df['TIPO_DESPESA'].value_counts()"
   ]
  },
  {
   "cell_type": "code",
   "execution_count": 67,
   "id": "5c5e671d-f53c-4c13-9fdf-651dad322167",
   "metadata": {},
   "outputs": [
    {
     "data": {
      "text/plain": [
       "TIPO_DESPESA\n",
       "Passagens aéreas, aquáticas e terrestres nacionais                                                                                                                                                 6335284.94\n",
       "Locomoção, hospedagem, alimentação, combustíveis e lubrificantes                                                                                                                                   5620092.84\n",
       "Aluguel de imóveis para escritório político, compreendendo despesas concernentes a eles.                                                                                                           5041433.04\n",
       "Contratação de consultorias, assessorias, pesquisas, trabalhos técnicos e outros serviços de apoio ao exercício do mandato parlamentar                                                             4966449.41\n",
       "Divulgação da atividade parlamentar                                                                                                                                                                2568910.24\n",
       "Aquisição de material de consumo para uso no escritório político, inclusive aquisição ou locação de software, despesas postais, aquisição de publicações, locação de móveis e de equipamentos.      900312.04\n",
       "Serviços de Segurança Privada                                                                                                                                                                       172213.61\n",
       "Name: VALOR_REEMBOLSADO, dtype: float64"
      ]
     },
     "execution_count": 67,
     "metadata": {},
     "output_type": "execute_result"
    }
   ],
   "source": [
    "#TIPO DE DESPESA MAIS CUSTOSO\n",
    "df.groupby('TIPO_DESPESA')['VALOR_REEMBOLSADO'].sum().sort_values(ascending=False)"
   ]
  },
  {
   "cell_type": "markdown",
   "id": "b4cdde51-23f1-451f-8a9b-448e61b74a16",
   "metadata": {},
   "source": [
    "# OU SEJA, TIVEMOS MAIS REEMBOLSOS POR LOCOMOÇÃO/HOSPEDAGEM, MAS OS REEMBOLSOS POR PASSAGENS AÉREAS CUSTARAM MAIS."
   ]
  },
  {
   "cell_type": "code",
   "execution_count": null,
   "id": "092cafbc-9324-4db7-9cb9-f54577b43ff8",
   "metadata": {},
   "outputs": [],
   "source": []
  }
 ],
 "metadata": {
  "kernelspec": {
   "display_name": "Python 3 (ipykernel)",
   "language": "python",
   "name": "python3"
  },
  "language_info": {
   "codemirror_mode": {
    "name": "ipython",
    "version": 3
   },
   "file_extension": ".py",
   "mimetype": "text/x-python",
   "name": "python",
   "nbconvert_exporter": "python",
   "pygments_lexer": "ipython3",
   "version": "3.12.4"
  }
 },
 "nbformat": 4,
 "nbformat_minor": 5
}
