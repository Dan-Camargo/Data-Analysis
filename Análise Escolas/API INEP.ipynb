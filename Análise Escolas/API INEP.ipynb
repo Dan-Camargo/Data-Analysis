{
 "cells": [
  {
   "cell_type": "markdown",
   "id": "c78b335d-2a13-4ad9-8cdf-6db60439a921",
   "metadata": {},
   "source": [
    "# ANÁLISE DOS DADOS DO SITE EDUCAÇÃO INTELIGENTE\n",
    "\n",
    "Dados do INEP disponibilizados por meio de uma API (http://educacao.dadosabertosbr.org/api/escolas/buscaavancada?situacaoFuncionamento=1&energiaInexistente=on&aguaInexistente=on&esgotoInexistente=on&cozinha=on)\n",
    "\n",
    "COM O SEGUINTE FILTRO: \"todas as escolas em funcionamento que não tenham energia, água nem esgoto, e que tenham cozinha.\""
   ]
  },
  {
   "cell_type": "code",
   "execution_count": 25,
   "id": "ba5ae5de-9907-4485-ac8d-2d48e16e7f18",
   "metadata": {},
   "outputs": [
    {
     "data": {
      "text/html": [
       "<div>\n",
       "<style scoped>\n",
       "    .dataframe tbody tr th:only-of-type {\n",
       "        vertical-align: middle;\n",
       "    }\n",
       "\n",
       "    .dataframe tbody tr th {\n",
       "        vertical-align: top;\n",
       "    }\n",
       "\n",
       "    .dataframe thead th {\n",
       "        text-align: right;\n",
       "    }\n",
       "</style>\n",
       "<table border=\"1\" class=\"dataframe\">\n",
       "  <thead>\n",
       "    <tr style=\"text-align: right;\">\n",
       "      <th></th>\n",
       "      <th>anoCenso</th>\n",
       "      <th>cod</th>\n",
       "      <th>nome</th>\n",
       "      <th>codCidade</th>\n",
       "      <th>cidade</th>\n",
       "      <th>estado</th>\n",
       "      <th>regiao</th>\n",
       "      <th>situacaoFuncionamento</th>\n",
       "      <th>dependenciaAdministrativa</th>\n",
       "      <th>idebAI</th>\n",
       "      <th>idebAF</th>\n",
       "      <th>enemMediaGeral</th>\n",
       "      <th>situacaoFuncionamentoTxt</th>\n",
       "      <th>dependenciaAdministrativaTxt</th>\n",
       "    </tr>\n",
       "  </thead>\n",
       "  <tbody>\n",
       "    <tr>\n",
       "      <th>0</th>\n",
       "      <td>2013</td>\n",
       "      <td>41036026</td>\n",
       "      <td>BAIRRO DOS MENDES E R M EF</td>\n",
       "      <td>4104402</td>\n",
       "      <td>CANDIDO DE ABREU</td>\n",
       "      <td>PR</td>\n",
       "      <td>Sul</td>\n",
       "      <td>1</td>\n",
       "      <td>3</td>\n",
       "      <td>0.0</td>\n",
       "      <td>0.0</td>\n",
       "      <td>0.0</td>\n",
       "      <td>Em atividade</td>\n",
       "      <td>Municipal</td>\n",
       "    </tr>\n",
       "    <tr>\n",
       "      <th>1</th>\n",
       "      <td>2013</td>\n",
       "      <td>15008258</td>\n",
       "      <td>E M E F AGUA AZUL</td>\n",
       "      <td>1504802</td>\n",
       "      <td>MONTE ALEGRE</td>\n",
       "      <td>PA</td>\n",
       "      <td>Norte</td>\n",
       "      <td>1</td>\n",
       "      <td>3</td>\n",
       "      <td>0.0</td>\n",
       "      <td>0.0</td>\n",
       "      <td>0.0</td>\n",
       "      <td>Em atividade</td>\n",
       "      <td>Municipal</td>\n",
       "    </tr>\n",
       "    <tr>\n",
       "      <th>2</th>\n",
       "      <td>2013</td>\n",
       "      <td>15534340</td>\n",
       "      <td>E M E F AGUA BOA</td>\n",
       "      <td>1505650</td>\n",
       "      <td>PLACAS</td>\n",
       "      <td>PA</td>\n",
       "      <td>Norte</td>\n",
       "      <td>1</td>\n",
       "      <td>3</td>\n",
       "      <td>0.0</td>\n",
       "      <td>0.0</td>\n",
       "      <td>0.0</td>\n",
       "      <td>Em atividade</td>\n",
       "      <td>Municipal</td>\n",
       "    </tr>\n",
       "    <tr>\n",
       "      <th>3</th>\n",
       "      <td>2013</td>\n",
       "      <td>15525821</td>\n",
       "      <td>E M E F AMAZONIA</td>\n",
       "      <td>1505064</td>\n",
       "      <td>NOVO REPARTIMENTO</td>\n",
       "      <td>PA</td>\n",
       "      <td>Norte</td>\n",
       "      <td>1</td>\n",
       "      <td>3</td>\n",
       "      <td>0.0</td>\n",
       "      <td>0.0</td>\n",
       "      <td>0.0</td>\n",
       "      <td>Em atividade</td>\n",
       "      <td>Municipal</td>\n",
       "    </tr>\n",
       "    <tr>\n",
       "      <th>4</th>\n",
       "      <td>2013</td>\n",
       "      <td>15022790</td>\n",
       "      <td>E M E F AMELIA HOLANDA</td>\n",
       "      <td>1500305</td>\n",
       "      <td>AFUA</td>\n",
       "      <td>PA</td>\n",
       "      <td>Norte</td>\n",
       "      <td>1</td>\n",
       "      <td>3</td>\n",
       "      <td>0.0</td>\n",
       "      <td>0.0</td>\n",
       "      <td>0.0</td>\n",
       "      <td>Em atividade</td>\n",
       "      <td>Municipal</td>\n",
       "    </tr>\n",
       "  </tbody>\n",
       "</table>\n",
       "</div>"
      ],
      "text/plain": [
       "   anoCenso       cod                        nome  codCidade  \\\n",
       "0      2013  41036026  BAIRRO DOS MENDES E R M EF    4104402   \n",
       "1      2013  15008258           E M E F AGUA AZUL    1504802   \n",
       "2      2013  15534340            E M E F AGUA BOA    1505650   \n",
       "3      2013  15525821            E M E F AMAZONIA    1505064   \n",
       "4      2013  15022790      E M E F AMELIA HOLANDA    1500305   \n",
       "\n",
       "              cidade estado regiao  situacaoFuncionamento  \\\n",
       "0   CANDIDO DE ABREU     PR    Sul                      1   \n",
       "1       MONTE ALEGRE     PA  Norte                      1   \n",
       "2             PLACAS     PA  Norte                      1   \n",
       "3  NOVO REPARTIMENTO     PA  Norte                      1   \n",
       "4               AFUA     PA  Norte                      1   \n",
       "\n",
       "   dependenciaAdministrativa  idebAI  idebAF  enemMediaGeral  \\\n",
       "0                          3     0.0     0.0             0.0   \n",
       "1                          3     0.0     0.0             0.0   \n",
       "2                          3     0.0     0.0             0.0   \n",
       "3                          3     0.0     0.0             0.0   \n",
       "4                          3     0.0     0.0             0.0   \n",
       "\n",
       "  situacaoFuncionamentoTxt dependenciaAdministrativaTxt  \n",
       "0             Em atividade                    Municipal  \n",
       "1             Em atividade                    Municipal  \n",
       "2             Em atividade                    Municipal  \n",
       "3             Em atividade                    Municipal  \n",
       "4             Em atividade                    Municipal  "
      ]
     },
     "execution_count": 25,
     "metadata": {},
     "output_type": "execute_result"
    }
   ],
   "source": [
    "#IMPORTS E CONFIGS\n",
    "\n",
    "import pandas as pd\n",
    "import requests\n",
    "import matplotlib.pyplot as plt\n",
    "import numpy as np\n",
    "%matplotlib inline\n",
    "#CORES PARA PLOTAGENS\n",
    "\n",
    "colors = np.array(['#000000', '#006400'])\n",
    "\n",
    "#URL DA API\n",
    "\n",
    "url = \"http://educacao.dadosabertosbr.org/api/escolas/buscaavancada?situacaoFuncionamento=1&energiaInexistente=on&aguaInexistente=on&esgotoInexistente=on&cozinha=on\"\n",
    "\n",
    "#REQUEST DADOS API\n",
    "\n",
    "response = requests.get(url)\n",
    "\n",
    "#RESPONSE DA API PARA PANDAS DATAFRAME\n",
    "\n",
    "df = pd.DataFrame(response.json()[1])\n",
    "\n",
    "#TESTAR\n",
    "df.head()"
   ]
  },
  {
   "cell_type": "code",
   "execution_count": 10,
   "id": "991097c0-f420-43bd-8f0f-3d624377ca2c",
   "metadata": {},
   "outputs": [
    {
     "data": {
      "text/plain": [
       "(100, 14)"
      ]
     },
     "execution_count": 10,
     "metadata": {},
     "output_type": "execute_result"
    }
   ],
   "source": [
    "#QUAL O TAMANHO DO DF?\n",
    "df.shape\n",
    "#(LINHAS X COLUNAS)"
   ]
  },
  {
   "cell_type": "code",
   "execution_count": 51,
   "id": "d5744297-e69d-4f6d-9084-cffb5b5f4dc5",
   "metadata": {},
   "outputs": [
    {
     "data": {
      "image/png": "[encoded data removed]",
      "text/plain": [
       "<Figure size 640x480 with 1 Axes>"
      ]
     },
     "metadata": {},
     "output_type": "display_data"
    }
   ],
   "source": [
    "# COLOCAR OS VALORES DE ESTADOS EM UMA VARIÁVEL\n",
    "estados = df['estado'].value_counts()\n",
    "\n",
    "# CRIAR O GRÁFICO PYPLOT UTILIZANDO AS CORES VERDE E PRETO\n",
    "grafico = estados.plot.barh(color = colors)\n",
    "\n",
    "#IMPORTANTE DECORAR: ADICIONANDO RÓTULOS DE DADOS NAS COLUNAS\n",
    "\n",
    "for i, value in enumerate(estados):\n",
    "    grafico.text(value, i, str(value), va='center',ha='left')\n"
   ]
  },
  {
   "cell_type": "code",
   "execution_count": 53,
   "id": "27bb0354-cc46-47ed-b69e-22c6de60a206",
   "metadata": {},
   "outputs": [
    {
     "data": {
      "text/plain": [
       "dependenciaAdministrativaTxt\n",
       "Municipal    100\n",
       "Name: count, dtype: int64"
      ]
     },
     "execution_count": 53,
     "metadata": {},
     "output_type": "execute_result"
    }
   ],
   "source": [
    "#TODAS SÃO MUNICIPAIS?\n",
    "df['dependenciaAdministrativaTxt'].value_counts()"
   ]
  },
  {
   "cell_type": "markdown",
   "id": "242262df-e545-4d57-b67b-1792edbd761b",
   "metadata": {},
   "source": [
    "= SIM"
   ]
  },
  {
   "cell_type": "code",
   "execution_count": null,
   "id": "c440f276-b1cd-4d4a-a055-82e1d988a10d",
   "metadata": {},
   "outputs": [],
   "source": []
  }
 ],
 "metadata": {
  "kernelspec": {
   "display_name": "Python 3 (ipykernel)",
   "language": "python",
   "name": "python3"
  },
  "language_info": {
   "codemirror_mode": {
    "name": "ipython",
    "version": 3
   },
   "file_extension": ".py",
   "mimetype": "text/x-python",
   "name": "python",
   "nbconvert_exporter": "python",
   "pygments_lexer": "ipython3",
   "version": "3.12.4"
  }
 },
 "nbformat": 4,
 "nbformat_minor": 5
}
