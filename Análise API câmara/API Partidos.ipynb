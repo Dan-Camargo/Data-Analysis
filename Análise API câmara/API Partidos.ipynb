{
 "cells": [
  {
   "cell_type": "markdown",
   "id": "ecd76be1-92b0-4a77-9ed1-fc782306d976",
   "metadata": {},
   "source": [
    "# Análise dos dados da câmara e partidos via API\n",
    "\n",
    "Análise feita utilizando a API de dados abertos da câmara (https://dadosabertos.camara.leg.br/swagger/api.html)"
   ]
  },
  {
   "cell_type": "code",
   "execution_count": 2,
   "id": "a60f80f5-4c39-4cef-acdf-18a800149b60",
   "metadata": {},
   "outputs": [],
   "source": [
    "#Importação de bibliotecas\n",
    "import pandas as pd\n",
    "import requests"
   ]
  },
  {
   "cell_type": "code",
   "execution_count": 3,
   "id": "899e2431-bf71-467c-874d-5e6286f2e163",
   "metadata": {},
   "outputs": [
    {
     "data": {
      "text/plain": [
       "'{\"dados\":[{\"id\":36898,\"sigla\":\"AVANTE\",\"nome\":\"Avante\",\"uri\":\"https://dadosabertos.camara.leg.br/api/v2/partidos/36898\"},{\"id\":37905,\"sigla\":\"CIDADANIA\",\"nome\":\"Cidadania\",\"uri\":\"https://dadosabertos.camara.leg.br/api/v2/partidos/37905\"},{\"id\":36899,\"sigla\":\"MDB\",\"nome\":\"Movimento Democrático Brasileiro\",\"uri\":\"https://dadosabertos.camara.leg.br/api/v2/partidos/36899\"},{\"id\":37901,\"sigla\":\"NOVO\",\"nome\":\"Partido Novo\",\"uri\":\"https://dadosabertos.camara.leg.br/api/v2/partidos/37901\"},{\"id\":36779,\"sigla\":\"PCdoB\",\"nome\":\"Partido Comunista do Brasil\",\"uri\":\"https://dadosabertos.camara.leg.br/api/v2/partidos/36779\"},{\"id\":36786,\"sigla\":\"PDT\",\"nome\":\"Partido Democrático Trabalhista\",\"uri\":\"https://dadosabertos.camara.leg.br/api/v2/partidos/36786\"},{\"id\":37906,\"sigla\":\"PL\",\"nome\":\"Partido Liberal\",\"uri\":\"https://dadosabertos.camara.leg.br/api/v2/partidos/37906\"},{\"id\":36896,\"sigla\":\"PODE\",\"nome\":\"Podemos\",\"uri\":\"https://dadosabertos.camara.leg.br/api/v2/partidos/36896\"},{\"id\":37903,\"sigla\":\"PP\",\"nome\":\"Progressistas\",\"uri\":\"https://dadosabertos.camara.leg.br/api/v2/partidos/37903\"},{\"id\":38010,\"sigla\":\"PRD\",\"nome\":\"Partido Renovação Democrática\",\"uri\":\"https://dadosabertos.camara.leg.br/api/v2/partidos/38010\"},{\"id\":36832,\"sigla\":\"PSB\",\"nome\":\"Partido Socialista Brasileiro\",\"uri\":\"https://dadosabertos.camara.leg.br/api/v2/partidos/36832\"},{\"id\":36834,\"sigla\":\"PSD\",\"nome\":\"Partido Social Democrático\",\"uri\":\"https://dadosabertos.camara.leg.br/api/v2/partidos/36834\"},{\"id\":36835,\"sigla\":\"PSDB\",\"nome\":\"Partido da Social Democracia Brasileira\",\"uri\":\"https://dadosabertos.camara.leg.br/api/v2/partidos/36835\"},{\"id\":36839,\"sigla\":\"PSOL\",\"nome\":\"Partido Socialismo e Liberdade\",\"uri\":\"https://dadosabertos.camara.leg.br/api/v2/partidos/36839\"},{\"id\":36844,\"sigla\":\"PT\",\"nome\":\"Partido dos Trabalhadores\",\"uri\":\"https://dadosabertos.camara.leg.br/api/v2/partidos/36844\"},{\"id\":36851,\"sigla\":\"PV\",\"nome\":\"Partido Verde\",\"uri\":\"https://dadosabertos.camara.leg.br/api/v2/partidos/36851\"},{\"id\":36886,\"sigla\":\"REDE\",\"nome\":\"Rede Sustentabilidade\",\"uri\":\"https://dadosabertos.camara.leg.br/api/v2/partidos/36886\"},{\"id\":37908,\"sigla\":\"REPUBLICANOS\",\"nome\":\"Republicanos\",\"uri\":\"https://dadosabertos.camara.leg.br/api/v2/partidos/37908\"},{\"id\":36852,\"sigla\":\"S.PART.\",\"nome\":\"Sem Partido\",\"uri\":\"https://dadosabertos.camara.leg.br/api/v2/partidos/36852\"},{\"id\":37904,\"sigla\":\"SOLIDARIEDADE\",\"nome\":\"Solidariedade\",\"uri\":\"https://dadosabertos.camara.leg.br/api/v2/partidos/37904\"},{\"id\":38009,\"sigla\":\"UNIÃO\",\"nome\":\"União Brasil\",\"uri\":\"https://dadosabertos.camara.leg.br/api/v2/partidos/38009\"}],\"links\":[{\"rel\":\"self\",\"href\":\"https://dadosabertos.camara.leg.br/api/v2/partidos?itens=100&ordem=ASC&ordenarPor=sigla\"},{\"rel\":\"first\",\"href\":\"https://dadosabertos.camara.leg.br/api/v2/partidos?ordem=ASC&ordenarPor=sigla&pagina=1&itens=100\"},{\"rel\":\"last\",\"href\":\"https://dadosabertos.camara.leg.br/api/v2/partidos?ordem=ASC&ordenarPor=sigla&pagina=1&itens=100\"}]}'"
      ]
     },
     "execution_count": 3,
     "metadata": {},
     "output_type": "execute_result"
    }
   ],
   "source": [
    "#OBTENDO DADOS DA API, PRIMEIRO CONFIGURANDO A URL EM UMA VARIÁVEL\n",
    "\n",
    "url = \"https://dadosabertos.camara.leg.br/api/v2/partidos?itens=100&ordem=ASC&ordenarPor=sigla\"\n",
    "\n",
    "response = requests.get(url)\n",
    "\n",
    "response.text"
   ]
  },
  {
   "cell_type": "code",
   "execution_count": 4,
   "id": "f4379177-9787-47c7-8be0-243900ddfeec",
   "metadata": {},
   "outputs": [
    {
     "data": {
      "text/html": [
       "<div>\n",
       "<style scoped>\n",
       "    .dataframe tbody tr th:only-of-type {\n",
       "        vertical-align: middle;\n",
       "    }\n",
       "\n",
       "    .dataframe tbody tr th {\n",
       "        vertical-align: top;\n",
       "    }\n",
       "\n",
       "    .dataframe thead th {\n",
       "        text-align: right;\n",
       "    }\n",
       "</style>\n",
       "<table border=\"1\" class=\"dataframe\">\n",
       "  <thead>\n",
       "    <tr style=\"text-align: right;\">\n",
       "      <th></th>\n",
       "      <th>id</th>\n",
       "      <th>sigla</th>\n",
       "      <th>nome</th>\n",
       "      <th>uri</th>\n",
       "    </tr>\n",
       "  </thead>\n",
       "  <tbody>\n",
       "    <tr>\n",
       "      <th>0</th>\n",
       "      <td>36898</td>\n",
       "      <td>AVANTE</td>\n",
       "      <td>Avante</td>\n",
       "      <td>https://dadosabertos.camara.leg.br/api/v2/part...</td>\n",
       "    </tr>\n",
       "    <tr>\n",
       "      <th>1</th>\n",
       "      <td>37905</td>\n",
       "      <td>CIDADANIA</td>\n",
       "      <td>Cidadania</td>\n",
       "      <td>https://dadosabertos.camara.leg.br/api/v2/part...</td>\n",
       "    </tr>\n",
       "    <tr>\n",
       "      <th>2</th>\n",
       "      <td>36899</td>\n",
       "      <td>MDB</td>\n",
       "      <td>Movimento Democrático Brasileiro</td>\n",
       "      <td>https://dadosabertos.camara.leg.br/api/v2/part...</td>\n",
       "    </tr>\n",
       "    <tr>\n",
       "      <th>3</th>\n",
       "      <td>37901</td>\n",
       "      <td>NOVO</td>\n",
       "      <td>Partido Novo</td>\n",
       "      <td>https://dadosabertos.camara.leg.br/api/v2/part...</td>\n",
       "    </tr>\n",
       "    <tr>\n",
       "      <th>4</th>\n",
       "      <td>36779</td>\n",
       "      <td>PCdoB</td>\n",
       "      <td>Partido Comunista do Brasil</td>\n",
       "      <td>https://dadosabertos.camara.leg.br/api/v2/part...</td>\n",
       "    </tr>\n",
       "    <tr>\n",
       "      <th>5</th>\n",
       "      <td>36786</td>\n",
       "      <td>PDT</td>\n",
       "      <td>Partido Democrático Trabalhista</td>\n",
       "      <td>https://dadosabertos.camara.leg.br/api/v2/part...</td>\n",
       "    </tr>\n",
       "    <tr>\n",
       "      <th>6</th>\n",
       "      <td>37906</td>\n",
       "      <td>PL</td>\n",
       "      <td>Partido Liberal</td>\n",
       "      <td>https://dadosabertos.camara.leg.br/api/v2/part...</td>\n",
       "    </tr>\n",
       "    <tr>\n",
       "      <th>7</th>\n",
       "      <td>36896</td>\n",
       "      <td>PODE</td>\n",
       "      <td>Podemos</td>\n",
       "      <td>https://dadosabertos.camara.leg.br/api/v2/part...</td>\n",
       "    </tr>\n",
       "    <tr>\n",
       "      <th>8</th>\n",
       "      <td>37903</td>\n",
       "      <td>PP</td>\n",
       "      <td>Progressistas</td>\n",
       "      <td>https://dadosabertos.camara.leg.br/api/v2/part...</td>\n",
       "    </tr>\n",
       "    <tr>\n",
       "      <th>9</th>\n",
       "      <td>38010</td>\n",
       "      <td>PRD</td>\n",
       "      <td>Partido Renovação Democrática</td>\n",
       "      <td>https://dadosabertos.camara.leg.br/api/v2/part...</td>\n",
       "    </tr>\n",
       "    <tr>\n",
       "      <th>10</th>\n",
       "      <td>36832</td>\n",
       "      <td>PSB</td>\n",
       "      <td>Partido Socialista Brasileiro</td>\n",
       "      <td>https://dadosabertos.camara.leg.br/api/v2/part...</td>\n",
       "    </tr>\n",
       "    <tr>\n",
       "      <th>11</th>\n",
       "      <td>36834</td>\n",
       "      <td>PSD</td>\n",
       "      <td>Partido Social Democrático</td>\n",
       "      <td>https://dadosabertos.camara.leg.br/api/v2/part...</td>\n",
       "    </tr>\n",
       "    <tr>\n",
       "      <th>12</th>\n",
       "      <td>36835</td>\n",
       "      <td>PSDB</td>\n",
       "      <td>Partido da Social Democracia Brasileira</td>\n",
       "      <td>https://dadosabertos.camara.leg.br/api/v2/part...</td>\n",
       "    </tr>\n",
       "    <tr>\n",
       "      <th>13</th>\n",
       "      <td>36839</td>\n",
       "      <td>PSOL</td>\n",
       "      <td>Partido Socialismo e Liberdade</td>\n",
       "      <td>https://dadosabertos.camara.leg.br/api/v2/part...</td>\n",
       "    </tr>\n",
       "    <tr>\n",
       "      <th>14</th>\n",
       "      <td>36844</td>\n",
       "      <td>PT</td>\n",
       "      <td>Partido dos Trabalhadores</td>\n",
       "      <td>https://dadosabertos.camara.leg.br/api/v2/part...</td>\n",
       "    </tr>\n",
       "    <tr>\n",
       "      <th>15</th>\n",
       "      <td>36851</td>\n",
       "      <td>PV</td>\n",
       "      <td>Partido Verde</td>\n",
       "      <td>https://dadosabertos.camara.leg.br/api/v2/part...</td>\n",
       "    </tr>\n",
       "    <tr>\n",
       "      <th>16</th>\n",
       "      <td>36886</td>\n",
       "      <td>REDE</td>\n",
       "      <td>Rede Sustentabilidade</td>\n",
       "      <td>https://dadosabertos.camara.leg.br/api/v2/part...</td>\n",
       "    </tr>\n",
       "    <tr>\n",
       "      <th>17</th>\n",
       "      <td>37908</td>\n",
       "      <td>REPUBLICANOS</td>\n",
       "      <td>Republicanos</td>\n",
       "      <td>https://dadosabertos.camara.leg.br/api/v2/part...</td>\n",
       "    </tr>\n",
       "    <tr>\n",
       "      <th>18</th>\n",
       "      <td>36852</td>\n",
       "      <td>S.PART.</td>\n",
       "      <td>Sem Partido</td>\n",
       "      <td>https://dadosabertos.camara.leg.br/api/v2/part...</td>\n",
       "    </tr>\n",
       "    <tr>\n",
       "      <th>19</th>\n",
       "      <td>37904</td>\n",
       "      <td>SOLIDARIEDADE</td>\n",
       "      <td>Solidariedade</td>\n",
       "      <td>https://dadosabertos.camara.leg.br/api/v2/part...</td>\n",
       "    </tr>\n",
       "    <tr>\n",
       "      <th>20</th>\n",
       "      <td>38009</td>\n",
       "      <td>UNIÃO</td>\n",
       "      <td>União Brasil</td>\n",
       "      <td>https://dadosabertos.camara.leg.br/api/v2/part...</td>\n",
       "    </tr>\n",
       "  </tbody>\n",
       "</table>\n",
       "</div>"
      ],
      "text/plain": [
       "       id          sigla                                     nome  \\\n",
       "0   36898         AVANTE                                   Avante   \n",
       "1   37905      CIDADANIA                                Cidadania   \n",
       "2   36899            MDB         Movimento Democrático Brasileiro   \n",
       "3   37901           NOVO                             Partido Novo   \n",
       "4   36779          PCdoB              Partido Comunista do Brasil   \n",
       "5   36786            PDT          Partido Democrático Trabalhista   \n",
       "6   37906             PL                          Partido Liberal   \n",
       "7   36896           PODE                                  Podemos   \n",
       "8   37903             PP                            Progressistas   \n",
       "9   38010            PRD            Partido Renovação Democrática   \n",
       "10  36832            PSB            Partido Socialista Brasileiro   \n",
       "11  36834            PSD               Partido Social Democrático   \n",
       "12  36835           PSDB  Partido da Social Democracia Brasileira   \n",
       "13  36839           PSOL           Partido Socialismo e Liberdade   \n",
       "14  36844             PT                Partido dos Trabalhadores   \n",
       "15  36851             PV                            Partido Verde   \n",
       "16  36886           REDE                    Rede Sustentabilidade   \n",
       "17  37908   REPUBLICANOS                             Republicanos   \n",
       "18  36852        S.PART.                              Sem Partido   \n",
       "19  37904  SOLIDARIEDADE                            Solidariedade   \n",
       "20  38009          UNIÃO                             União Brasil   \n",
       "\n",
       "                                                  uri  \n",
       "0   https://dadosabertos.camara.leg.br/api/v2/part...  \n",
       "1   https://dadosabertos.camara.leg.br/api/v2/part...  \n",
       "2   https://dadosabertos.camara.leg.br/api/v2/part...  \n",
       "3   https://dadosabertos.camara.leg.br/api/v2/part...  \n",
       "4   https://dadosabertos.camara.leg.br/api/v2/part...  \n",
       "5   https://dadosabertos.camara.leg.br/api/v2/part...  \n",
       "6   https://dadosabertos.camara.leg.br/api/v2/part...  \n",
       "7   https://dadosabertos.camara.leg.br/api/v2/part...  \n",
       "8   https://dadosabertos.camara.leg.br/api/v2/part...  \n",
       "9   https://dadosabertos.camara.leg.br/api/v2/part...  \n",
       "10  https://dadosabertos.camara.leg.br/api/v2/part...  \n",
       "11  https://dadosabertos.camara.leg.br/api/v2/part...  \n",
       "12  https://dadosabertos.camara.leg.br/api/v2/part...  \n",
       "13  https://dadosabertos.camara.leg.br/api/v2/part...  \n",
       "14  https://dadosabertos.camara.leg.br/api/v2/part...  \n",
       "15  https://dadosabertos.camara.leg.br/api/v2/part...  \n",
       "16  https://dadosabertos.camara.leg.br/api/v2/part...  \n",
       "17  https://dadosabertos.camara.leg.br/api/v2/part...  \n",
       "18  https://dadosabertos.camara.leg.br/api/v2/part...  \n",
       "19  https://dadosabertos.camara.leg.br/api/v2/part...  \n",
       "20  https://dadosabertos.camara.leg.br/api/v2/part...  "
      ]
     },
     "execution_count": 4,
     "metadata": {},
     "output_type": "execute_result"
    }
   ],
   "source": [
    "#CONVERTER RESPONSE PARA PANDAS DATAFRAME\n",
    "\n",
    "df = pd.DataFrame(response.json()['dados'])\n",
    "df"
   ]
  },
  {
   "cell_type": "code",
   "execution_count": 13,
   "id": "822cffae-5c17-425c-afab-713fe5936730",
   "metadata": {},
   "outputs": [
    {
     "data": {
      "text/plain": [
       "21"
      ]
     },
     "execution_count": 13,
     "metadata": {},
     "output_type": "execute_result"
    }
   ],
   "source": [
    "df['sigla'].count()"
   ]
  },
  {
   "cell_type": "code",
   "execution_count": 25,
   "id": "1987f9db-d41c-4aa2-aa23-2ef949c66d5e",
   "metadata": {},
   "outputs": [
    {
     "data": {
      "text/plain": [
       "'https://dadosabertos.camara.leg.br/api/v2/partidos/36898'"
      ]
     },
     "execution_count": 25,
     "metadata": {},
     "output_type": "execute_result"
    }
   ],
   "source": [
    "#LOCALIZAR DADO COM BASE EM POSIÇÃO ABSOLUTA(LINHA X COLUNA)\n",
    "df.iloc[0,3]"
   ]
  },
  {
   "cell_type": "code",
   "execution_count": 21,
   "id": "52b0f176-5648-4528-9686-143ffebdd931",
   "metadata": {},
   "outputs": [
    {
     "data": {
      "text/plain": [
       "'https://dadosabertos.camara.leg.br/api/v2/partidos/36898'"
      ]
     },
     "execution_count": 21,
     "metadata": {},
     "output_type": "execute_result"
    }
   ],
   "source": [
    "#LOCALIZAR DADO UTILIZANDO A COLUNA COMO REFERÊNCIA\n",
    "df.loc[0,'uri']"
   ]
  },
  {
   "cell_type": "code",
   "execution_count": null,
   "id": "754565ed-d57d-49a1-aceb-26984d128af1",
   "metadata": {},
   "outputs": [],
   "source": []
  }
 ],
 "metadata": {
  "kernelspec": {
   "display_name": "Python 3 (ipykernel)",
   "language": "python",
   "name": "python3"
  },
  "language_info": {
   "codemirror_mode": {
    "name": "ipython",
    "version": 3
   },
   "file_extension": ".py",
   "mimetype": "text/x-python",
   "name": "python",
   "nbconvert_exporter": "python",
   "pygments_lexer": "ipython3",
   "version": "3.12.4"
  }
 },
 "nbformat": 4,
 "nbformat_minor": 5
}
