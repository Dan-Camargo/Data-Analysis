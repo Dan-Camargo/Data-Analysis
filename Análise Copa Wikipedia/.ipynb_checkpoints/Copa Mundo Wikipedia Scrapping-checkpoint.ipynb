{
 "cells": [
  {
   "cell_type": "markdown",
   "id": "077c8d9f-8a3b-48d7-9eba-610f6bfc7861",
   "metadata": {},
   "source": [
    "# ANÁLISE DE DADOS DA WIKIPEDIA SOBRE A COPA DO MUNDO\n",
    "\n",
    "Com base na página da Wikipedia sobre o assunto, será feito webscrapping para extração dos dados\n",
    "\n",
    "link -> https://pt.wikipedia.org/wiki/Copa_do_Mundo_FIFA"
   ]
  },
  {
   "cell_type": "code",
   "execution_count": 31,
   "id": "c5dd3eaf-8183-4e92-bcf2-0598cf3e442c",
   "metadata": {},
   "outputs": [
    {
     "name": "stderr",
     "output_type": "stream",
     "text": [
      "C:\\Users\\Lenovo\\AppData\\Local\\Temp\\ipykernel_6352\\1146949046.py:11: FutureWarning: Passing literal html to 'read_html' is deprecated and will be removed in a future version. To read from a literal string, wrap it in a 'StringIO' object.\n",
      "  table = pd.read_html(response.text)\n"
     ]
    },
    {
     "data": {
      "text/html": [
       "<div>\n",
       "<style scoped>\n",
       "    .dataframe tbody tr th:only-of-type {\n",
       "        vertical-align: middle;\n",
       "    }\n",
       "\n",
       "    .dataframe tbody tr th {\n",
       "        vertical-align: top;\n",
       "    }\n",
       "\n",
       "    .dataframe thead th {\n",
       "        text-align: right;\n",
       "    }\n",
       "</style>\n",
       "<table border=\"1\" class=\"dataframe\">\n",
       "  <thead>\n",
       "    <tr style=\"text-align: right;\">\n",
       "      <th></th>\n",
       "      <th>Edição</th>\n",
       "      <th>Ano</th>\n",
       "      <th>Estádio</th>\n",
       "      <th>Local</th>\n",
       "      <th>Público pagante</th>\n",
       "    </tr>\n",
       "  </thead>\n",
       "  <tbody>\n",
       "    <tr>\n",
       "      <th>0</th>\n",
       "      <td>I</td>\n",
       "      <td>1930</td>\n",
       "      <td>Estádio Centenário</td>\n",
       "      <td>Montevidéu</td>\n",
       "      <td>68.346</td>\n",
       "    </tr>\n",
       "    <tr>\n",
       "      <th>1</th>\n",
       "      <td>II</td>\n",
       "      <td>1934</td>\n",
       "      <td>Estádio do Partido Nacional Fascista</td>\n",
       "      <td>Roma</td>\n",
       "      <td>55.000</td>\n",
       "    </tr>\n",
       "    <tr>\n",
       "      <th>2</th>\n",
       "      <td>III</td>\n",
       "      <td>1938</td>\n",
       "      <td>Estádio Olímpico Yves-du-Manoir</td>\n",
       "      <td>Colombes</td>\n",
       "      <td>45.000</td>\n",
       "    </tr>\n",
       "    <tr>\n",
       "      <th>3</th>\n",
       "      <td>IV</td>\n",
       "      <td>1950</td>\n",
       "      <td>Estádio do Maracanã</td>\n",
       "      <td>Rio de Janeiro</td>\n",
       "      <td>173.850</td>\n",
       "    </tr>\n",
       "    <tr>\n",
       "      <th>4</th>\n",
       "      <td>V</td>\n",
       "      <td>1954</td>\n",
       "      <td>Estádio Wankdorf</td>\n",
       "      <td>Berna</td>\n",
       "      <td>62.500</td>\n",
       "    </tr>\n",
       "  </tbody>\n",
       "</table>\n",
       "</div>"
      ],
      "text/plain": [
       "  Edição   Ano                               Estádio           Local  \\\n",
       "0      I  1930                    Estádio Centenário      Montevidéu   \n",
       "1     II  1934  Estádio do Partido Nacional Fascista            Roma   \n",
       "2    III  1938       Estádio Olímpico Yves-du-Manoir        Colombes   \n",
       "3     IV  1950                   Estádio do Maracanã  Rio de Janeiro   \n",
       "4      V  1954                      Estádio Wankdorf           Berna   \n",
       "\n",
       "   Público pagante  \n",
       "0           68.346  \n",
       "1           55.000  \n",
       "2           45.000  \n",
       "3          173.850  \n",
       "4           62.500  "
      ]
     },
     "execution_count": 31,
     "metadata": {},
     "output_type": "execute_result"
    }
   ],
   "source": [
    "#IMPORTS E CONFIG\n",
    "import pandas as pd\n",
    "import requests as req\n",
    "#DECLARAÇÃO URL\n",
    "url = \"https://pt.wikipedia.org/wiki/Copa_do_Mundo_FIFA\"\n",
    "\n",
    "response = req.get(url)\n",
    "\n",
    "#OBTER RESPOSTA EM HTML\n",
    "\n",
    "table = pd.read_html(response.text)\n",
    "\n",
    "df = table[11]\n",
    "\n",
    "df.head()"
   ]
  },
  {
   "cell_type": "code",
   "execution_count": 3,
   "id": "4bfb3b14-52f5-46da-b86e-12b19361ec63",
   "metadata": {},
   "outputs": [
    {
     "name": "stdout",
     "output_type": "stream",
     "text": [
      "<class 'pandas.core.frame.DataFrame'>\n",
      "RangeIndex: 23 entries, 0 to 22\n",
      "Data columns (total 5 columns):\n",
      " #   Column           Non-Null Count  Dtype  \n",
      "---  ------           --------------  -----  \n",
      " 0   Edição           23 non-null     object \n",
      " 1   Ano              23 non-null     int64  \n",
      " 2   Estádio          23 non-null     object \n",
      " 3   Local            23 non-null     object \n",
      " 4   Público pagante  22 non-null     float64\n",
      "dtypes: float64(1), int64(1), object(3)\n",
      "memory usage: 1.0+ KB\n"
     ]
    }
   ],
   "source": [
    "#INFORMAÇÕES GERAIS SOBRE OS TIPOS DAS COLUNAS\n",
    "df.info()"
   ]
  },
  {
   "cell_type": "markdown",
   "id": "7e320993-374c-4470-85de-c419d3705a64",
   "metadata": {},
   "source": [
    "AQUI DESCOBRIMOS QUE A COLUNA PÚBLICO PAGANTE TEM UM VALOR NULO (POIS TEMOS 23 ENTRADAS E A COLUNA TEM APENAS 22 VALORES NÃO-NULOS\n",
    "\n",
    "PRECISAMOS PUXAR A LINHA INTEIRA DESSE VALOR NULO PARA DESCOBRIRMOS O PORQUÊ"
   ]
  },
  {
   "cell_type": "code",
   "execution_count": 5,
   "id": "35152339-faf5-4d2a-a0c7-b477be5df20c",
   "metadata": {},
   "outputs": [
    {
     "data": {
      "text/plain": [
       "0        68.346\n",
       "1        55.000\n",
       "2        45.000\n",
       "3       173.850\n",
       "4        62.500\n",
       "5        49.737\n",
       "6        68.679\n",
       "7        96.924\n",
       "8       107.412\n",
       "9        78.200\n",
       "10       71.483\n",
       "11       90.000\n",
       "12      114.600\n",
       "13       73.603\n",
       "14       94.194\n",
       "15       80.000\n",
       "16       69.029\n",
       "17       69.000\n",
       "18       84.490\n",
       "19       74.738\n",
       "20       78.011\n",
       "21    88966.000\n",
       "22          NaN\n",
       "Name: Público pagante, dtype: float64"
      ]
     },
     "execution_count": 5,
     "metadata": {},
     "output_type": "execute_result"
    }
   ],
   "source": [
    "#COMO O DATAFRAME É PEQUENO PODEMOS VISUALIZAR ESSA INFORMAÇÃO APENAS PEDINDO PARA MOSTRAR A COLUNA E ASSIM VEMOS QUE O VALOR NaN está na linha 22\n",
    "df['Público pagante']"
   ]
  },
  {
   "cell_type": "code",
   "execution_count": 6,
   "id": "7163fc6a-c8dc-4d3c-98f6-21d0e5f0b288",
   "metadata": {},
   "outputs": [
    {
     "data": {
      "text/plain": [
       "Edição                                   XXIII\n",
       "Ano                                       2026\n",
       "Estádio            New York New Jersey Stadium\n",
       "Local                          East Rutherford\n",
       "Público pagante                            NaN\n",
       "Name: 22, dtype: object"
      ]
     },
     "execution_count": 6,
     "metadata": {},
     "output_type": "execute_result"
    }
   ],
   "source": [
    "#AQUI PUXAMOS INFORMAÇÃO DA LINHA 22, E VEMOS QUE O PÚBLICO PAGANTE NÃO CONSTA POIS A COPA NÃO ACONTECEU AINDA.\n",
    "df.loc[22]\n",
    "#ALSO, WE SEE THAT THE DTYPE OF THE COLUMN IS OBJECT, BUT IT'S ACTUALLY A NUMERIC COLUMN."
   ]
  },
  {
   "cell_type": "code",
   "execution_count": 48,
   "id": "871e10b4-bb8d-4743-84c3-2dd11dd00877",
   "metadata": {},
   "outputs": [
    {
     "data": {
      "text/plain": [
       "0      68346.0\n",
       "1      55000.0\n",
       "2      45000.0\n",
       "3     173850.0\n",
       "4      62500.0\n",
       "5      49737.0\n",
       "6      68679.0\n",
       "7      96924.0\n",
       "8     107412.0\n",
       "9      78200.0\n",
       "10     71483.0\n",
       "11     90000.0\n",
       "12    114600.0\n",
       "13     73603.0\n",
       "14     94194.0\n",
       "15     80000.0\n",
       "16     69029.0\n",
       "17     69000.0\n",
       "18     84490.0\n",
       "19     74738.0\n",
       "20     78011.0\n",
       "21     88966.0\n",
       "22         0.0\n",
       "Name: Público pagante, dtype: float64"
      ]
     },
     "execution_count": 48,
     "metadata": {},
     "output_type": "execute_result"
    }
   ],
   "source": [
    "#BECAUSE OF THAT WE ARE GOING TO CONVERT IT INTO FLOAT/NUMERIC:\n",
    "#REMOVING NaN VALUES AND CONVERTING TYPES\n",
    "df['Público pagante'] = df['Público pagante'].fillna(0)\n",
    "\n",
    "numeros = df['Público pagante']\n",
    "numeros"
   ]
  },
  {
   "cell_type": "code",
   "execution_count": 39,
   "id": "bbdbbe42-3706-47ce-bd40-d017d009f458",
   "metadata": {},
   "outputs": [
    {
     "name": "stderr",
     "output_type": "stream",
     "text": [
      "C:\\Users\\Lenovo\\AppData\\Local\\Temp\\ipykernel_6352\\1636070904.py:3: SettingWithCopyWarning: \n",
      "A value is trying to be set on a copy of a slice from a DataFrame\n",
      "\n",
      "See the caveats in the documentation: https://pandas.pydata.org/pandas-docs/stable/user_guide/indexing.html#returning-a-view-versus-a-copy\n",
      "  numeros[i] = numero * 1000\n",
      "C:\\Users\\Lenovo\\AppData\\Local\\Temp\\ipykernel_6352\\1636070904.py:3: SettingWithCopyWarning: \n",
      "A value is trying to be set on a copy of a slice from a DataFrame\n",
      "\n",
      "See the caveats in the documentation: https://pandas.pydata.org/pandas-docs/stable/user_guide/indexing.html#returning-a-view-versus-a-copy\n",
      "  numeros[i] = numero * 1000\n",
      "C:\\Users\\Lenovo\\AppData\\Local\\Temp\\ipykernel_6352\\1636070904.py:3: SettingWithCopyWarning: \n",
      "A value is trying to be set on a copy of a slice from a DataFrame\n",
      "\n",
      "See the caveats in the documentation: https://pandas.pydata.org/pandas-docs/stable/user_guide/indexing.html#returning-a-view-versus-a-copy\n",
      "  numeros[i] = numero * 1000\n",
      "C:\\Users\\Lenovo\\AppData\\Local\\Temp\\ipykernel_6352\\1636070904.py:3: SettingWithCopyWarning: \n",
      "A value is trying to be set on a copy of a slice from a DataFrame\n",
      "\n",
      "See the caveats in the documentation: https://pandas.pydata.org/pandas-docs/stable/user_guide/indexing.html#returning-a-view-versus-a-copy\n",
      "  numeros[i] = numero * 1000\n",
      "C:\\Users\\Lenovo\\AppData\\Local\\Temp\\ipykernel_6352\\1636070904.py:3: SettingWithCopyWarning: \n",
      "A value is trying to be set on a copy of a slice from a DataFrame\n",
      "\n",
      "See the caveats in the documentation: https://pandas.pydata.org/pandas-docs/stable/user_guide/indexing.html#returning-a-view-versus-a-copy\n",
      "  numeros[i] = numero * 1000\n",
      "C:\\Users\\Lenovo\\AppData\\Local\\Temp\\ipykernel_6352\\1636070904.py:3: SettingWithCopyWarning: \n",
      "A value is trying to be set on a copy of a slice from a DataFrame\n",
      "\n",
      "See the caveats in the documentation: https://pandas.pydata.org/pandas-docs/stable/user_guide/indexing.html#returning-a-view-versus-a-copy\n",
      "  numeros[i] = numero * 1000\n",
      "C:\\Users\\Lenovo\\AppData\\Local\\Temp\\ipykernel_6352\\1636070904.py:3: SettingWithCopyWarning: \n",
      "A value is trying to be set on a copy of a slice from a DataFrame\n",
      "\n",
      "See the caveats in the documentation: https://pandas.pydata.org/pandas-docs/stable/user_guide/indexing.html#returning-a-view-versus-a-copy\n",
      "  numeros[i] = numero * 1000\n",
      "C:\\Users\\Lenovo\\AppData\\Local\\Temp\\ipykernel_6352\\1636070904.py:3: SettingWithCopyWarning: \n",
      "A value is trying to be set on a copy of a slice from a DataFrame\n",
      "\n",
      "See the caveats in the documentation: https://pandas.pydata.org/pandas-docs/stable/user_guide/indexing.html#returning-a-view-versus-a-copy\n",
      "  numeros[i] = numero * 1000\n",
      "C:\\Users\\Lenovo\\AppData\\Local\\Temp\\ipykernel_6352\\1636070904.py:3: SettingWithCopyWarning: \n",
      "A value is trying to be set on a copy of a slice from a DataFrame\n",
      "\n",
      "See the caveats in the documentation: https://pandas.pydata.org/pandas-docs/stable/user_guide/indexing.html#returning-a-view-versus-a-copy\n",
      "  numeros[i] = numero * 1000\n",
      "C:\\Users\\Lenovo\\AppData\\Local\\Temp\\ipykernel_6352\\1636070904.py:3: SettingWithCopyWarning: \n",
      "A value is trying to be set on a copy of a slice from a DataFrame\n",
      "\n",
      "See the caveats in the documentation: https://pandas.pydata.org/pandas-docs/stable/user_guide/indexing.html#returning-a-view-versus-a-copy\n",
      "  numeros[i] = numero * 1000\n",
      "C:\\Users\\Lenovo\\AppData\\Local\\Temp\\ipykernel_6352\\1636070904.py:3: SettingWithCopyWarning: \n",
      "A value is trying to be set on a copy of a slice from a DataFrame\n",
      "\n",
      "See the caveats in the documentation: https://pandas.pydata.org/pandas-docs/stable/user_guide/indexing.html#returning-a-view-versus-a-copy\n",
      "  numeros[i] = numero * 1000\n",
      "C:\\Users\\Lenovo\\AppData\\Local\\Temp\\ipykernel_6352\\1636070904.py:3: SettingWithCopyWarning: \n",
      "A value is trying to be set on a copy of a slice from a DataFrame\n",
      "\n",
      "See the caveats in the documentation: https://pandas.pydata.org/pandas-docs/stable/user_guide/indexing.html#returning-a-view-versus-a-copy\n",
      "  numeros[i] = numero * 1000\n",
      "C:\\Users\\Lenovo\\AppData\\Local\\Temp\\ipykernel_6352\\1636070904.py:3: SettingWithCopyWarning: \n",
      "A value is trying to be set on a copy of a slice from a DataFrame\n",
      "\n",
      "See the caveats in the documentation: https://pandas.pydata.org/pandas-docs/stable/user_guide/indexing.html#returning-a-view-versus-a-copy\n",
      "  numeros[i] = numero * 1000\n",
      "C:\\Users\\Lenovo\\AppData\\Local\\Temp\\ipykernel_6352\\1636070904.py:3: SettingWithCopyWarning: \n",
      "A value is trying to be set on a copy of a slice from a DataFrame\n",
      "\n",
      "See the caveats in the documentation: https://pandas.pydata.org/pandas-docs/stable/user_guide/indexing.html#returning-a-view-versus-a-copy\n",
      "  numeros[i] = numero * 1000\n",
      "C:\\Users\\Lenovo\\AppData\\Local\\Temp\\ipykernel_6352\\1636070904.py:3: SettingWithCopyWarning: \n",
      "A value is trying to be set on a copy of a slice from a DataFrame\n",
      "\n",
      "See the caveats in the documentation: https://pandas.pydata.org/pandas-docs/stable/user_guide/indexing.html#returning-a-view-versus-a-copy\n",
      "  numeros[i] = numero * 1000\n",
      "C:\\Users\\Lenovo\\AppData\\Local\\Temp\\ipykernel_6352\\1636070904.py:3: SettingWithCopyWarning: \n",
      "A value is trying to be set on a copy of a slice from a DataFrame\n",
      "\n",
      "See the caveats in the documentation: https://pandas.pydata.org/pandas-docs/stable/user_guide/indexing.html#returning-a-view-versus-a-copy\n",
      "  numeros[i] = numero * 1000\n",
      "C:\\Users\\Lenovo\\AppData\\Local\\Temp\\ipykernel_6352\\1636070904.py:3: SettingWithCopyWarning: \n",
      "A value is trying to be set on a copy of a slice from a DataFrame\n",
      "\n",
      "See the caveats in the documentation: https://pandas.pydata.org/pandas-docs/stable/user_guide/indexing.html#returning-a-view-versus-a-copy\n",
      "  numeros[i] = numero * 1000\n",
      "C:\\Users\\Lenovo\\AppData\\Local\\Temp\\ipykernel_6352\\1636070904.py:3: SettingWithCopyWarning: \n",
      "A value is trying to be set on a copy of a slice from a DataFrame\n",
      "\n",
      "See the caveats in the documentation: https://pandas.pydata.org/pandas-docs/stable/user_guide/indexing.html#returning-a-view-versus-a-copy\n",
      "  numeros[i] = numero * 1000\n",
      "C:\\Users\\Lenovo\\AppData\\Local\\Temp\\ipykernel_6352\\1636070904.py:3: SettingWithCopyWarning: \n",
      "A value is trying to be set on a copy of a slice from a DataFrame\n",
      "\n",
      "See the caveats in the documentation: https://pandas.pydata.org/pandas-docs/stable/user_guide/indexing.html#returning-a-view-versus-a-copy\n",
      "  numeros[i] = numero * 1000\n",
      "C:\\Users\\Lenovo\\AppData\\Local\\Temp\\ipykernel_6352\\1636070904.py:3: SettingWithCopyWarning: \n",
      "A value is trying to be set on a copy of a slice from a DataFrame\n",
      "\n",
      "See the caveats in the documentation: https://pandas.pydata.org/pandas-docs/stable/user_guide/indexing.html#returning-a-view-versus-a-copy\n",
      "  numeros[i] = numero * 1000\n",
      "C:\\Users\\Lenovo\\AppData\\Local\\Temp\\ipykernel_6352\\1636070904.py:3: SettingWithCopyWarning: \n",
      "A value is trying to be set on a copy of a slice from a DataFrame\n",
      "\n",
      "See the caveats in the documentation: https://pandas.pydata.org/pandas-docs/stable/user_guide/indexing.html#returning-a-view-versus-a-copy\n",
      "  numeros[i] = numero * 1000\n",
      "C:\\Users\\Lenovo\\AppData\\Local\\Temp\\ipykernel_6352\\1636070904.py:3: SettingWithCopyWarning: \n",
      "A value is trying to be set on a copy of a slice from a DataFrame\n",
      "\n",
      "See the caveats in the documentation: https://pandas.pydata.org/pandas-docs/stable/user_guide/indexing.html#returning-a-view-versus-a-copy\n",
      "  numeros[i] = numero * 1000\n"
     ]
    },
    {
     "data": {
      "text/plain": [
       "0      68346.0\n",
       "1      55000.0\n",
       "2      45000.0\n",
       "3     173850.0\n",
       "4      62500.0\n",
       "5      49737.0\n",
       "6      68679.0\n",
       "7      96924.0\n",
       "8     107412.0\n",
       "9      78200.0\n",
       "10     71483.0\n",
       "11     90000.0\n",
       "12    114600.0\n",
       "13     73603.0\n",
       "14     94194.0\n",
       "15     80000.0\n",
       "16     69029.0\n",
       "17     69000.0\n",
       "18     84490.0\n",
       "19     74738.0\n",
       "20     78011.0\n",
       "21     88966.0\n",
       "22         0.0\n",
       "Name: Público pagante, dtype: float64"
      ]
     },
     "execution_count": 39,
     "metadata": {},
     "output_type": "execute_result"
    }
   ],
   "source": [
    "for i, numero in enumerate(numeros):\n",
    "    if numero < 200:\n",
    "        numeros[i] = numero * 1000\n",
    "numeros"
   ]
  },
  {
   "cell_type": "markdown",
   "id": "f650066c-76d5-4973-88af-23f5586c94f1",
   "metadata": {},
   "source": [
    "AQUI CONSERTAMOS O FORMATO DOS NÚMEROS (O IF < 200 FOI PARA SELECIONAR APENAS OS QUE ESTAVAM SENDO IDENTIFICADOS COMO DEZENAS, POIS ALGUNS ESTAVAM SENDO INTERPRETADOS CORRETAMENTE)"
   ]
  },
  {
   "cell_type": "code",
   "execution_count": 60,
   "id": "72c27689-cf06-4992-a89d-7f3d35d2b737",
   "metadata": {},
   "outputs": [
    {
     "data": {
      "text/plain": [
       "0      68346\n",
       "1      55000\n",
       "2      45000\n",
       "3     173850\n",
       "4      62500\n",
       "5      49737\n",
       "6      68679\n",
       "7      96924\n",
       "8     107412\n",
       "9      78200\n",
       "10     71483\n",
       "11     90000\n",
       "12    114600\n",
       "13     73603\n",
       "14     94194\n",
       "15     80000\n",
       "16     69029\n",
       "17     69000\n",
       "18     84490\n",
       "19     74738\n",
       "20     78011\n",
       "21     88966\n",
       "22         0\n",
       "Name: Público pagante, dtype: int32"
      ]
     },
     "execution_count": 60,
     "metadata": {},
     "output_type": "execute_result"
    }
   ],
   "source": [
    "df['Público pagante'] = df['Público pagante'].astype(int)\n",
    "df['Público pagante']"
   ]
  },
  {
   "cell_type": "code",
   "execution_count": 78,
   "id": "a3069e43-7655-4d0d-b4a5-973dcb7d575b",
   "metadata": {},
   "outputs": [],
   "source": [
    "#CONSTRUIR UM GRÁFICO COM A EVOLUÇÃO DE PÚBLICO PAGANTE\n",
    "\n",
    "#IMPORTANDO NOVA BIBLIOTECA\n",
    "import seaborn as sns\n",
    "import matplotlib.pyplot as plt\n",
    "%matplotlib inline"
   ]
  },
  {
   "cell_type": "code",
   "execution_count": 80,
   "id": "35ffbc7a-8e5c-4179-a743-090e54170bf7",
   "metadata": {},
   "outputs": [
    {
     "data": {
      "text/plain": [
       "<function matplotlib.pyplot.show(close=None, block=None)>"
      ]
     },
     "execution_count": 80,
     "metadata": {},
     "output_type": "execute_result"
    },
    {
     "data": {
      "image/png": "[encoded data removed]",
      "text/plain": [
       "<Figure size 640x480 with 1 Axes>"
      ]
     },
     "metadata": {},
     "output_type": "display_data"
    }
   ],
   "source": [
    "#GRÁFICO DE LINHAS COM MARCAÇÃO EM CADA PONTO\n",
    "sns.pointplot(x='Ano', y='Público pagante', data=df, color='#06402B')\n",
    "\n",
    "#AJUSTANDO LEGENDAS\n",
    "plt.xticks(rotation=65)\n",
    "\n",
    "plt.show"
   ]
  },
  {
   "cell_type": "code",
   "execution_count": null,
   "id": "c1a6bab3-ff95-45bd-89a8-6bbef5232786",
   "metadata": {},
   "outputs": [],
   "source": []
  }
 ],
 "metadata": {
  "kernelspec": {
   "display_name": "Python 3 (ipykernel)",
   "language": "python",
   "name": "python3"
  },
  "language_info": {
   "codemirror_mode": {
    "name": "ipython",
    "version": 3
   },
   "file_extension": ".py",
   "mimetype": "text/x-python",
   "name": "python",
   "nbconvert_exporter": "python",
   "pygments_lexer": "ipython3",
   "version": "3.12.4"
  }
 },
 "nbformat": 4,
 "nbformat_minor": 5
}
